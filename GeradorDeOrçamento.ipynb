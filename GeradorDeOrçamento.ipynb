{
 "cells": [
  {
   "cell_type": "markdown",
   "id": "7fc7a021",
   "metadata": {},
   "source": [
    "# Meu Orçamento"
   ]
  },
  {
   "cell_type": "code",
   "execution_count": 9,
   "id": "054c89ad",
   "metadata": {},
   "outputs": [
    {
     "name": "stdout",
     "output_type": "stream",
     "text": [
      "Orçamento gerado com sucesso!\n"
     ]
    }
   ],
   "source": [
    "print(\"Orçamento gerado com sucesso!\")"
   ]
  },
  {
   "cell_type": "markdown",
   "id": "ad370edc",
   "metadata": {},
   "source": [
    "# Entrada de Dados"
   ]
  },
  {
   "cell_type": "code",
   "execution_count": 10,
   "id": "3431b2e1",
   "metadata": {},
   "outputs": [
    {
     "name": "stdout",
     "output_type": "stream",
     "text": [
      "Digite a descrição do projeto: Desenvolvimento Web\n",
      "Digite o total de horas estimadas: 100\n",
      "Digite o valor da hora trabalhada: 200\n",
      "Digite o prazo Estimado: 1 mes\n"
     ]
    },
    {
     "data": {
      "text/plain": [
       "'1 mes'"
      ]
     },
     "execution_count": 10,
     "metadata": {},
     "output_type": "execute_result"
    }
   ],
   "source": [
    "input(\"Digite a descrição do projeto: \")\n",
    "input(\"Digite o total de horas estimadas: \")\n",
    "input(\"Digite o valor da hora trabalhada: \")\n",
    "input(\"Digite o prazo Estimado: \")"
   ]
  },
  {
   "cell_type": "markdown",
   "id": "416c975e",
   "metadata": {},
   "source": [
    "# Guardando Informações do User"
   ]
  },
  {
   "cell_type": "code",
   "execution_count": 11,
   "id": "51efbc14",
   "metadata": {},
   "outputs": [
    {
     "name": "stdout",
     "output_type": "stream",
     "text": [
      "Digite a descrição do projeto: Desenvolvimento Web\n",
      "Digite o total de horas estimadas: 100\n",
      "Digite o valor da hora trabalhada: 200\n",
      "Digite o prazo Estimado: 1 mes\n"
     ]
    }
   ],
   "source": [
    "projeto = input(\"Digite a descrição do projeto: \")\n",
    "horas_estimadas = input(\"Digite o total de horas estimadas: \")\n",
    "valor_hora = input(\"Digite o valor da hora trabalhada: \")\n",
    "prazo = input(\"Digite o prazo Estimado: \")"
   ]
  },
  {
   "cell_type": "markdown",
   "id": "ec47c37c",
   "metadata": {},
   "source": [
    "# Realizando Cálculos"
   ]
  },
  {
   "cell_type": "code",
   "execution_count": 12,
   "id": "4c4de7bb",
   "metadata": {},
   "outputs": [],
   "source": [
    "valor_total = int(horas_estimadas) * int(valor_hora)"
   ]
  },
  {
   "cell_type": "code",
   "execution_count": 13,
   "id": "16c19634",
   "metadata": {},
   "outputs": [
    {
     "name": "stdout",
     "output_type": "stream",
     "text": [
      "20000\n"
     ]
    }
   ],
   "source": [
    "print(valor_total)"
   ]
  },
  {
   "cell_type": "markdown",
   "id": "90c9fc98",
   "metadata": {},
   "source": [
    "# Gerar o PDF"
   ]
  },
  {
   "cell_type": "code",
   "execution_count": 14,
   "id": "9b9908e2",
   "metadata": {},
   "outputs": [
    {
     "name": "stdout",
     "output_type": "stream",
     "text": [
      "Requirement already satisfied: fpdf in c:\\users\\henri\\anaconda3\\lib\\site-packages (1.7.2)\n"
     ]
    }
   ],
   "source": [
    "!pip install fpdf"
   ]
  },
  {
   "cell_type": "code",
   "execution_count": 15,
   "id": "c277a3c4",
   "metadata": {},
   "outputs": [],
   "source": [
    "from fpdf import FPDF"
   ]
  },
  {
   "cell_type": "code",
   "execution_count": 16,
   "id": "6d296041",
   "metadata": {},
   "outputs": [
    {
     "name": "stdout",
     "output_type": "stream",
     "text": [
      "Orçamento gerado com sucesso!\n"
     ]
    }
   ],
   "source": [
    "pdf = FPDF()\n",
    "\n",
    "pdf.add_page()\n",
    "pdf.set_font(\"Arial\")\n",
    "\n",
    "pdf.image(\"template.png\", x=0, y=0)\n",
    "pdf.text(115, 146, projeto)\n",
    "pdf.text(115, 160, horas_estimadas)\n",
    "pdf.text(115, 175, valor_hora)\n",
    "pdf.text(115, 190, prazo)\n",
    "pdf.text(115, 205, str(valor_total))\n",
    "\n",
    "pdf.output(\"Orçamento.pdf\")\n",
    "print(\"Orçamento gerado com sucesso!\")"
   ]
  },
  {
   "cell_type": "code",
   "execution_count": null,
   "id": "6d68da42",
   "metadata": {},
   "outputs": [],
   "source": []
  },
  {
   "cell_type": "code",
   "execution_count": null,
   "id": "b530413b",
   "metadata": {},
   "outputs": [],
   "source": []
  }
 ],
 "metadata": {
  "kernelspec": {
   "display_name": "Python 3 (ipykernel)",
   "language": "python",
   "name": "python3"
  },
  "language_info": {
   "codemirror_mode": {
    "name": "ipython",
    "version": 3
   },
   "file_extension": ".py",
   "mimetype": "text/x-python",
   "name": "python",
   "nbconvert_exporter": "python",
   "pygments_lexer": "ipython3",
   "version": "3.9.13"
  }
 },
 "nbformat": 4,
 "nbformat_minor": 5
}
